{
 "cells": [
  {
   "cell_type": "markdown",
   "id": "cdee72c2-5413-4a89-9e7e-d078ae28258d",
   "metadata": {},
   "source": [
    "# Prepare forcing raw data CAMELS-GB\n",
    "## CEH-GEAR: pr, CHESS-PE: pet, CHESS-met: tas"
   ]
  },
  {
   "cell_type": "code",
   "execution_count": 1,
   "id": "e7612a98-96f4-45fa-9c1a-e714623b9335",
   "metadata": {},
   "outputs": [],
   "source": [
    "# This cell is only used to suppress some distracting output messages\n",
    "import warnings\n",
    "\n",
    "warnings.filterwarnings(\"ignore\", category=UserWarning)"
   ]
  },
  {
   "cell_type": "code",
   "execution_count": 2,
   "id": "5512db35-a54d-4604-b82e-cb103daa987c",
   "metadata": {},
   "outputs": [],
   "source": [
    "import xarray as xr\n",
    "from bng_latlon import OSGB36toWGS84\n",
    "\n",
    "from glob import glob\n",
    "from pathlib import Path"
   ]
  },
  {
   "cell_type": "markdown",
   "id": "ad00dc88-29ad-4793-8128-2c486a5d8ee5",
   "metadata": {},
   "source": [
    "# Set Paths"
   ]
  },
  {
   "cell_type": "code",
   "execution_count": 3,
   "id": "4cc6278f-bf20-4474-8917-00ae757ba6e3",
   "metadata": {},
   "outputs": [],
   "source": [
    "# Snellius paths\n",
    "ROOT = '/gpfs/work1/0/wtrcycle/users/jaerts/camels_uk/'\n",
    "FORCING_RAW = f'{ROOT}/forcing_raw/'\n",
    "FORCING = f'{ROOT}/forcing/'"
   ]
  },
  {
   "cell_type": "markdown",
   "id": "001b0fcb-b507-4a22-a451-2970fcbe97e0",
   "metadata": {},
   "source": [
    "# Prepare tas"
   ]
  },
  {
   "cell_type": "code",
   "execution_count": 4,
   "id": "890c158b-6350-413a-aee3-916653153326",
   "metadata": {},
   "outputs": [],
   "source": [
    "# Read forcing files\n",
    "forcing_files = glob(f'{FORCING_RAW}/tas/*')\n",
    "ds = xr.open_mfdataset(forcing_files)\n",
    "\n",
    "# Assign lat lon instead of native GB coords\n",
    "ds = ds.assign_coords({'x':ds.lon[0,:].values, 'y':ds.lat[:,0].values})\n",
    "\n",
    "# Drop redundant variables\n",
    "ds = ds.drop_vars(['lat','lon','time_bnds', 'x_bnds', 'y_bnds', 'crsOSGB']) \n",
    "\n",
    "# Rename to lat lon\n",
    "ds = ds.rename({'x':'lon','y':'lat'})\n",
    "\n",
    "# Store output\n",
    "ds.to_netcdf(f'{FORCING}/chess-met_tas_gb_1km_daily_2000_2017.nc')"
   ]
  },
  {
   "cell_type": "markdown",
   "id": "df02abcd-58e5-4872-a135-9949bb32488f",
   "metadata": {},
   "source": [
    "# Prepare pet"
   ]
  },
  {
   "cell_type": "code",
   "execution_count": 5,
   "id": "db15a1f9-be70-40a7-897c-171d0cb76a22",
   "metadata": {},
   "outputs": [],
   "source": [
    "# Read forcing files\n",
    "forcing_files = glob(f'{FORCING_RAW}/pet/*')\n",
    "ds = xr.open_mfdataset(forcing_files)\n",
    "\n",
    "# Assign lat lon instead of native GB coords\n",
    "ds = ds.assign_coords({'x':ds.lon[0,:].values, 'y':ds.lat[:,0].values})\n",
    "\n",
    "# Drop redundant variables\n",
    "ds = ds.drop_vars(['lat','lon','time_bnds', 'x_bnds', 'y_bnds', 'crsOSGB']) \n",
    "\n",
    "# Rename to lat lon\n",
    "ds = ds.rename({'x':'lon','y':'lat'})\n",
    "\n",
    "# Store output\n",
    "ds.to_netcdf(f'{FORCING}/chess-pe_pet_gb_1km_daily_2000_2017.nc')"
   ]
  },
  {
   "cell_type": "markdown",
   "id": "6c438e30-d494-407b-85d8-9c5cff6c514c",
   "metadata": {
    "tags": []
   },
   "source": [
    "# Prepare pr"
   ]
  },
  {
   "cell_type": "code",
   "execution_count": 23,
   "id": "be9b98fc-940e-40a9-95e0-a0254990e3f2",
   "metadata": {},
   "outputs": [],
   "source": [
    "# Read forcing files\n",
    "forcing_files = glob(f'{FORCING_RAW}/pr/*')\n",
    "ds = xr.open_mfdataset(forcing_files)"
   ]
  },
  {
   "cell_type": "code",
   "execution_count": 24,
   "id": "ef10a207-7dc5-4f75-b2c7-5993853dd064",
   "metadata": {},
   "outputs": [],
   "source": [
    "# Convert to lonlat from OBSGB36\n",
    "\n",
    "lons=[]\n",
    "lats=[]\n",
    "\n",
    "for i in ds.x.values:\n",
    "    j=0\n",
    "    lons.append(OSGB36toWGS84(i,j)[1])\n",
    "        \n",
    "for j in ds.y.values:\n",
    "    i=0\n",
    "    lats.append(OSGB36toWGS84(i,j)[0])        \n",
    "        \n",
    "ds = ds.assign_coords({\n",
    "        \"x\": lons,\n",
    "        \"y\": lats,\n",
    "        })   "
   ]
  },
  {
   "cell_type": "code",
   "execution_count": 25,
   "id": "360a408e-5855-4b9c-b89d-b395bdbaf10a",
   "metadata": {},
   "outputs": [],
   "source": [
    "# Drop redundant variables\n",
    "ds = ds.drop_vars(['lat','lon','min_dist','crs'])\n",
    "\n",
    "# Rename to lat lon\n",
    "ds = ds.rename({'x':'lon','y':'lat'})\n",
    "\n",
    "# Rechunk dataset\n",
    "ds = ds.chunk(chunks='auto')\n",
    "ds = ds.unify_chunks()\n",
    "\n",
    "# Store output\n",
    "ds.to_netcdf(f'{FORCING}/ceh-gear_pr_gb_1km_daily_2000_2019.nc')"
   ]
  },
  {
   "cell_type": "code",
   "execution_count": null,
   "id": "fb477dcd-28ba-4535-bc43-0019b96db430",
   "metadata": {},
   "outputs": [],
   "source": []
  },
  {
   "cell_type": "code",
   "execution_count": null,
   "id": "3185e5eb-1cb8-4452-9d36-4dd5d2ad4111",
   "metadata": {},
   "outputs": [],
   "source": []
  },
  {
   "cell_type": "code",
   "execution_count": null,
   "id": "2a336417-3e1e-495b-935d-75e3a0cbb470",
   "metadata": {},
   "outputs": [],
   "source": []
  }
 ],
 "metadata": {
  "kernelspec": {
   "display_name": "Python 3 (ipykernel)",
   "language": "python",
   "name": "python3"
  },
  "language_info": {
   "codemirror_mode": {
    "name": "ipython",
    "version": 3
   },
   "file_extension": ".py",
   "mimetype": "text/x-python",
   "name": "python",
   "nbconvert_exporter": "python",
   "pygments_lexer": "ipython3",
   "version": "3.10.2"
  }
 },
 "nbformat": 4,
 "nbformat_minor": 5
}
