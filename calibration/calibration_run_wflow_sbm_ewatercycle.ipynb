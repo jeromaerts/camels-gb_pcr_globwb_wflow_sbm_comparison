{
 "cells": [
  {
   "cell_type": "markdown",
   "id": "6ef8fc5e-c04c-4a2e-9e69-f8d231d1f04e",
   "metadata": {},
   "source": [
    "# Calibration run of the Wflow_SBM model by manually setting a calibration interval for the KsatHorFrac parameter"
   ]
  },
  {
   "cell_type": "code",
   "execution_count": 1,
   "id": "79dfb3ff-d2da-4118-a585-729f6e239300",
   "metadata": {},
   "outputs": [
    {
     "name": "stderr",
     "output_type": "stream",
     "text": [
      "/gpfs/home6/jaerts/mambaforge/envs/wflow_state_flux/lib/python3.10/site-packages/esmvalcore/experimental/_warnings.py:13: UserWarning: \n",
      "  Thank you for trying out the new ESMValCore API.\n",
      "  Note that this API is experimental and may be subject to change.\n",
      "  More info: https://github.com/ESMValGroup/ESMValCore/issues/498\n"
     ]
    },
    {
     "name": "stdout",
     "output_type": "stream",
     "text": [
      "loggggg\n"
     ]
    }
   ],
   "source": [
    "import xarray as xr\n",
    "\n",
    "from pathlib import Path\n",
    "\n",
    "import ewatercycle.forcing\n",
    "import ewatercycle.models\n",
    "import ewatercycle.parameter_sets\n",
    "\n",
    "import warnings\n",
    "\n",
    "warnings.filterwarnings(\"ignore\", category=UserWarning)"
   ]
  },
  {
   "cell_type": "code",
   "execution_count": 2,
   "id": "baa77ab8-09ea-4a4d-9202-83da2c3b2734",
   "metadata": {},
   "outputs": [],
   "source": [
    "available_cores = 30"
   ]
  },
  {
   "cell_type": "markdown",
   "id": "eda3b779-5402-4d08-8f9b-dedc5a682f92",
   "metadata": {},
   "source": [
    "# Paths\n"
   ]
  },
  {
   "cell_type": "code",
   "execution_count": 3,
   "id": "057842d5-2547-4089-8e17-544074217190",
   "metadata": {},
   "outputs": [],
   "source": [
    "# Set Paths\n",
    "ROOT = Path('/gpfs/work1/0/wtrcycle/users/jaerts/camels_uk/')\n",
    "MODELS = Path(f'{ROOT}/wflow/data/')"
   ]
  },
  {
   "cell_type": "markdown",
   "id": "ddbd9b47-5dc8-4e24-ab92-5c050b5efa5b",
   "metadata": {},
   "source": [
    "# Config"
   ]
  },
  {
   "cell_type": "code",
   "execution_count": 4,
   "id": "0fd1f5dd-b44c-41bd-bd4c-97c893da52c6",
   "metadata": {
    "tags": [
     "parameters"
    ]
   },
   "outputs": [],
   "source": [
    "# Set basin ID (tagged for papermill)\n",
    "basin_id = '1001'\n",
    "\n",
    "# Get basin directory\n",
    "BASINDIR = Path(f'{MODELS}/{basin_id}')\n",
    "\n",
    "# KsatHorFrac calibration parameter value\n",
    "ksathorfrac = '1'\n",
    "\n",
    "# Load eWaterCycle config\n",
    "ewatercycle.CFG.load_from_file(f'{ROOT}/camels-gb_pcr_globwb_wflow_sbm_comparison/ewatercycle.yaml')"
   ]
  },
  {
   "cell_type": "markdown",
   "id": "f5df707d-bc1f-47f9-ab7c-a4189b1bb444",
   "metadata": {},
   "source": [
    "# Set parameter set info\n",
    "\n",
    "\n"
   ]
  },
  {
   "cell_type": "code",
   "execution_count": 5,
   "id": "3b492659-f5cf-482e-9aed-140d3bfa7c45",
   "metadata": {},
   "outputs": [],
   "source": [
    "# Specify the parameter set of wflow_sbm based on the basin ID\n",
    "\n",
    "# Make sure dict is not empty\n",
    "if ewatercycle.CFG[\"parameter_sets\"] is None:\n",
    "    ewatercycle.CFG[\"parameter_sets\"] = {}\n",
    "\n",
    "# Specify directory, config file, target models\n",
    "ewatercycle.CFG[\"parameter_sets\"][f'{basin_id}'] = dict(\n",
    "    directory=f'{BASINDIR}',\n",
    "    config=f\"{BASINDIR}/wflow_sbm.toml\",\n",
    "    doi=\"N/A\",\n",
    "    target_model=\"wflow\",\n",
    "    supported_model_versions={\"2020.1.1\", \"2020.1.2\", \"2020.1.3\"},\n",
    ")"
   ]
  },
  {
   "cell_type": "code",
   "execution_count": 6,
   "id": "ffb6df7b-2370-4582-9846-9ce0160a2cf6",
   "metadata": {},
   "outputs": [
    {
     "name": "stdout",
     "output_type": "stream",
     "text": [
      "Parameter set\n",
      "-------------\n",
      "name=1001\n",
      "directory=/gpfs/work1/0/wtrcycle/users/jaerts/camels_uk/wflow/data/1001\n",
      "config=/gpfs/work1/0/wtrcycle/users/jaerts/camels_uk/wflow/data/1001/wflow_sbm.toml\n",
      "doi=N/A\n",
      "target_model=wflow\n",
      "supported_model_versions={'2020.1.1', '2020.1.3', '2020.1.2'}\n"
     ]
    }
   ],
   "source": [
    "# Load parameter set\n",
    "parameter_set = ewatercycle.parameter_sets.get_parameter_set(f'{basin_id}')\n",
    "print(parameter_set)"
   ]
  },
  {
   "cell_type": "markdown",
   "id": "d8eaab1e-e2a0-4a81-b29a-836803a866e9",
   "metadata": {},
   "source": [
    "# Set forcing info"
   ]
  },
  {
   "cell_type": "code",
   "execution_count": 7,
   "id": "cddaa5bf-b926-4fd7-9ea8-8d346b0af3de",
   "metadata": {},
   "outputs": [
    {
     "name": "stdout",
     "output_type": "stream",
     "text": [
      "Forcing data for Wflow\n",
      "----------------------\n",
      "Directory: /gpfs/work1/0/wtrcycle/users/jaerts/camels_uk/wflow/data/1001\n",
      "Start time: 2000-01-01T00:00:00Z\n",
      "End time: 2017-12-31T00:00:00Z\n",
      "Shapefile: None\n",
      "Additional information for model config:\n",
      "  - netcdfinput: ceh-gear_chess_camels-gb_1001_2000_2017.nc\n",
      "  - Precipitation: /pr\n",
      "  - Temperature: /tas\n",
      "  - EvapoTranspiration: /pet\n",
      "  - Inflow: None\n"
     ]
    }
   ],
   "source": [
    "forcing = ewatercycle.forcing.load_foreign(\n",
    "    target_model=\"wflow\",\n",
    "    start_time=\"2000-01-01T00:00:00Z\",\n",
    "    end_time=\"2017-12-31T00:00:00Z\",\n",
    "    directory=f'{BASINDIR}',\n",
    "    forcing_info={\n",
    "        'netcdfinput':f'ceh-gear_chess_camels-gb_{basin_id}_2000_2017.nc'\n",
    "    }\n",
    "    )\n",
    "\n",
    "print(forcing)"
   ]
  },
  {
   "cell_type": "markdown",
   "id": "c97c421d-490d-41aa-a6bc-0e214d182673",
   "metadata": {},
   "source": [
    "# Start "
   ]
  },
  {
   "cell_type": "code",
   "execution_count": 20,
   "id": "fb815417-b666-4666-9554-29619e25e0d2",
   "metadata": {},
   "outputs": [
    {
     "name": "stderr",
     "output_type": "stream",
     "text": [
      "WARNING:ewatercycle.models.wflow:running with suffix .toml\n",
      "WARNING:ewatercycle.models.wflow:Config file from parameter set is missing API section, adding section\n",
      "WARNING:ewatercycle.models.wflow:Config file from parameter set is missing RiverRunoff option in API section, added it with value '2, m/s option'\n",
      "WARNING:ewatercycle.models.wflow:running with suffix .toml\n"
     ]
    }
   ],
   "source": [
    "wflow_sbm =  ewatercycle.models.Wflow(version=\"2020.1.3\", parameter_set=parameter_set, forcing=forcing)"
   ]
  },
  {
   "cell_type": "code",
   "execution_count": 21,
   "id": "7d4c552a-54e8-4442-99b6-aeee2d6570da",
   "metadata": {},
   "outputs": [
    {
     "name": "stdout",
     "output_type": "stream",
     "text": [
      "log\n"
     ]
    },
    {
     "name": "stderr",
     "output_type": "stream",
     "text": [
      "E0629 16:14:20.355195746 3277837 fork_posix.cc:70]           Fork support is only compatible with the epoll1 and poll polling strategies\n"
     ]
    }
   ],
   "source": [
    "cfg_file, cfg_dir = wflow_sbm.setup()"
   ]
  },
  {
   "cell_type": "code",
   "execution_count": 22,
   "id": "2b51b6e5-2b47-435c-804e-9b8d059fc671",
   "metadata": {},
   "outputs": [
    {
     "ename": "_InactiveRpcError",
     "evalue": "<_InactiveRpcError of RPC that terminated with:\n\tstatus = StatusCode.UNKNOWN\n\tdetails = \"Exception calling application: Model wflow_ewatercycle not recognized as one of ['wflow.wflow_sbm', 'wflow.wflow_hbv', 'wflow.wflow_topoflex', 'wflow.wflow_routing', 'wflow.wflow_floodmap', 'wflow.wflow_lintul', 'wflow.wflow_sceleton', 'wflow.wflow_w3ra', 'wflow.wflow_w3', 'wflow.wflow_stream', 'wflow.wflow_sphy', 'wflow.wflow_pcrglobwb']\"\n\tdebug_error_string = \"{\"created\":\"@1656512069.909075436\",\"description\":\"Error received from peer ipv6:[::1]:58469\",\"file\":\"src/core/lib/surface/call.cc\",\"file_line\":903,\"grpc_message\":\"Exception calling application: Model wflow_ewatercycle not recognized as one of ['wflow.wflow_sbm', 'wflow.wflow_hbv', 'wflow.wflow_topoflex', 'wflow.wflow_routing', 'wflow.wflow_floodmap', 'wflow.wflow_lintul', 'wflow.wflow_sceleton', 'wflow.wflow_w3ra', 'wflow.wflow_w3', 'wflow.wflow_stream', 'wflow.wflow_sphy', 'wflow.wflow_pcrglobwb']\",\"grpc_status\":2}\"\n>",
     "output_type": "error",
     "traceback": [
      "\u001b[0;31m---------------------------------------------------------------------------\u001b[0m",
      "\u001b[0;31m_InactiveRpcError\u001b[0m                         Traceback (most recent call last)",
      "Input \u001b[0;32mIn [22]\u001b[0m, in \u001b[0;36m<cell line: 1>\u001b[0;34m()\u001b[0m\n\u001b[0;32m----> 1\u001b[0m \u001b[43mwflow_sbm\u001b[49m\u001b[38;5;241;43m.\u001b[39;49m\u001b[43minitialize\u001b[49m\u001b[43m(\u001b[49m\u001b[43mcfg_file\u001b[49m\u001b[43m)\u001b[49m\n",
      "File \u001b[0;32m/gpfs/home6/jaerts/mambaforge/envs/wflow_state_flux/lib/python3.10/site-packages/ewatercycle/models/abstract.py:82\u001b[0m, in \u001b[0;36mAbstractModel.initialize\u001b[0;34m(self, config_file)\u001b[0m\n\u001b[1;32m     75\u001b[0m \u001b[38;5;28;01mdef\u001b[39;00m \u001b[38;5;21minitialize\u001b[39m(\u001b[38;5;28mself\u001b[39m, config_file: \u001b[38;5;28mstr\u001b[39m) \u001b[38;5;241m-\u001b[39m\u001b[38;5;241m>\u001b[39m \u001b[38;5;28;01mNone\u001b[39;00m:\n\u001b[1;32m     76\u001b[0m     \u001b[38;5;124;03m\"\"\"Initialize the model.\u001b[39;00m\n\u001b[1;32m     77\u001b[0m \n\u001b[1;32m     78\u001b[0m \u001b[38;5;124;03m    Args:\u001b[39;00m\n\u001b[1;32m     79\u001b[0m \u001b[38;5;124;03m        config_file: Name of initialization file.\u001b[39;00m\n\u001b[1;32m     80\u001b[0m \n\u001b[1;32m     81\u001b[0m \u001b[38;5;124;03m    \"\"\"\u001b[39;00m\n\u001b[0;32m---> 82\u001b[0m     \u001b[38;5;28;43mself\u001b[39;49m\u001b[38;5;241;43m.\u001b[39;49m\u001b[43mbmi\u001b[49m\u001b[38;5;241;43m.\u001b[39;49m\u001b[43minitialize\u001b[49m\u001b[43m(\u001b[49m\u001b[43mconfig_file\u001b[49m\u001b[43m)\u001b[49m\n",
      "File \u001b[0;32m/gpfs/home6/jaerts/mambaforge/envs/wflow_state_flux/lib/python3.10/site-packages/grpc4bmi/bmi_grpc_client.py:62\u001b[0m, in \u001b[0;36mBmiClient.initialize\u001b[0;34m(self, filename)\u001b[0m\n\u001b[1;32m     60\u001b[0m \u001b[38;5;28;01massert\u001b[39;00m check_argument_types()\n\u001b[1;32m     61\u001b[0m fname \u001b[38;5;241m=\u001b[39m \u001b[38;5;124m\"\u001b[39m\u001b[38;5;124m\"\u001b[39m \u001b[38;5;28;01mif\u001b[39;00m filename \u001b[38;5;129;01mis\u001b[39;00m \u001b[38;5;28;01mNone\u001b[39;00m \u001b[38;5;28;01melse\u001b[39;00m filename\n\u001b[0;32m---> 62\u001b[0m \u001b[38;5;28;43mself\u001b[39;49m\u001b[38;5;241;43m.\u001b[39;49m\u001b[43mstub\u001b[49m\u001b[38;5;241;43m.\u001b[39;49m\u001b[43minitialize\u001b[49m\u001b[43m(\u001b[49m\u001b[43mbmi_pb2\u001b[49m\u001b[38;5;241;43m.\u001b[39;49m\u001b[43mInitializeRequest\u001b[49m\u001b[43m(\u001b[49m\u001b[43mconfig_file\u001b[49m\u001b[38;5;241;43m=\u001b[39;49m\u001b[43mfname\u001b[49m\u001b[43m)\u001b[49m\u001b[43m)\u001b[49m\n",
      "File \u001b[0;32m/gpfs/home6/jaerts/mambaforge/envs/wflow_state_flux/lib/python3.10/site-packages/grpc/_channel.py:946\u001b[0m, in \u001b[0;36m_UnaryUnaryMultiCallable.__call__\u001b[0;34m(self, request, timeout, metadata, credentials, wait_for_ready, compression)\u001b[0m\n\u001b[1;32m    937\u001b[0m \u001b[38;5;28;01mdef\u001b[39;00m \u001b[38;5;21m__call__\u001b[39m(\u001b[38;5;28mself\u001b[39m,\n\u001b[1;32m    938\u001b[0m              request,\n\u001b[1;32m    939\u001b[0m              timeout\u001b[38;5;241m=\u001b[39m\u001b[38;5;28;01mNone\u001b[39;00m,\n\u001b[0;32m   (...)\u001b[0m\n\u001b[1;32m    942\u001b[0m              wait_for_ready\u001b[38;5;241m=\u001b[39m\u001b[38;5;28;01mNone\u001b[39;00m,\n\u001b[1;32m    943\u001b[0m              compression\u001b[38;5;241m=\u001b[39m\u001b[38;5;28;01mNone\u001b[39;00m):\n\u001b[1;32m    944\u001b[0m     state, call, \u001b[38;5;241m=\u001b[39m \u001b[38;5;28mself\u001b[39m\u001b[38;5;241m.\u001b[39m_blocking(request, timeout, metadata, credentials,\n\u001b[1;32m    945\u001b[0m                                   wait_for_ready, compression)\n\u001b[0;32m--> 946\u001b[0m     \u001b[38;5;28;01mreturn\u001b[39;00m \u001b[43m_end_unary_response_blocking\u001b[49m\u001b[43m(\u001b[49m\u001b[43mstate\u001b[49m\u001b[43m,\u001b[49m\u001b[43m \u001b[49m\u001b[43mcall\u001b[49m\u001b[43m,\u001b[49m\u001b[43m \u001b[49m\u001b[38;5;28;43;01mFalse\u001b[39;49;00m\u001b[43m,\u001b[49m\u001b[43m \u001b[49m\u001b[38;5;28;43;01mNone\u001b[39;49;00m\u001b[43m)\u001b[49m\n",
      "File \u001b[0;32m/gpfs/home6/jaerts/mambaforge/envs/wflow_state_flux/lib/python3.10/site-packages/grpc/_channel.py:849\u001b[0m, in \u001b[0;36m_end_unary_response_blocking\u001b[0;34m(state, call, with_call, deadline)\u001b[0m\n\u001b[1;32m    847\u001b[0m         \u001b[38;5;28;01mreturn\u001b[39;00m state\u001b[38;5;241m.\u001b[39mresponse\n\u001b[1;32m    848\u001b[0m \u001b[38;5;28;01melse\u001b[39;00m:\n\u001b[0;32m--> 849\u001b[0m     \u001b[38;5;28;01mraise\u001b[39;00m _InactiveRpcError(state)\n",
      "\u001b[0;31m_InactiveRpcError\u001b[0m: <_InactiveRpcError of RPC that terminated with:\n\tstatus = StatusCode.UNKNOWN\n\tdetails = \"Exception calling application: Model wflow_ewatercycle not recognized as one of ['wflow.wflow_sbm', 'wflow.wflow_hbv', 'wflow.wflow_topoflex', 'wflow.wflow_routing', 'wflow.wflow_floodmap', 'wflow.wflow_lintul', 'wflow.wflow_sceleton', 'wflow.wflow_w3ra', 'wflow.wflow_w3', 'wflow.wflow_stream', 'wflow.wflow_sphy', 'wflow.wflow_pcrglobwb']\"\n\tdebug_error_string = \"{\"created\":\"@1656512069.909075436\",\"description\":\"Error received from peer ipv6:[::1]:58469\",\"file\":\"src/core/lib/surface/call.cc\",\"file_line\":903,\"grpc_message\":\"Exception calling application: Model wflow_ewatercycle not recognized as one of ['wflow.wflow_sbm', 'wflow.wflow_hbv', 'wflow.wflow_topoflex', 'wflow.wflow_routing', 'wflow.wflow_floodmap', 'wflow.wflow_lintul', 'wflow.wflow_sceleton', 'wflow.wflow_w3ra', 'wflow.wflow_w3', 'wflow.wflow_stream', 'wflow.wflow_sphy', 'wflow.wflow_pcrglobwb']\",\"grpc_status\":2}\"\n>"
     ]
    }
   ],
   "source": [
    "wflow_sbm.initialize(cfg_file)"
   ]
  },
  {
   "cell_type": "code",
   "execution_count": null,
   "id": "4652d43b-8819-4202-9e75-60bf27249910",
   "metadata": {},
   "outputs": [],
   "source": []
  }
 ],
 "metadata": {
  "kernelspec": {
   "display_name": "Python 3 (ipykernel)",
   "language": "python",
   "name": "python3"
  },
  "language_info": {
   "codemirror_mode": {
    "name": "ipython",
    "version": 3
   },
   "file_extension": ".py",
   "mimetype": "text/x-python",
   "name": "python",
   "nbconvert_exporter": "python",
   "pygments_lexer": "ipython3",
   "version": "3.10.2"
  }
 },
 "nbformat": 4,
 "nbformat_minor": 5
}
