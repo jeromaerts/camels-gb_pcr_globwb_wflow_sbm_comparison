{
 "cells": [
  {
   "cell_type": "markdown",
   "id": "6ef8fc5e-c04c-4a2e-9e69-f8d231d1f04e",
   "metadata": {},
   "source": [
    "# Calibration run of the Wflow_SBM model by manually setting a calibration interval for the KsatHorFrac parameter"
   ]
  },
  {
   "cell_type": "code",
   "execution_count": 1,
   "id": "79dfb3ff-d2da-4118-a585-729f6e239300",
   "metadata": {},
   "outputs": [
    {
     "name": "stderr",
     "output_type": "stream",
     "text": [
      "/gpfs/home6/jaerts/mambaforge/envs/wflow_state_flux/lib/python3.10/site-packages/esmvalcore/experimental/_warnings.py:13: UserWarning: \n",
      "  Thank you for trying out the new ESMValCore API.\n",
      "  Note that this API is experimental and may be subject to change.\n",
      "  More info: https://github.com/ESMValGroup/ESMValCore/issues/498\n"
     ]
    },
    {
     "name": "stdout",
     "output_type": "stream",
     "text": [
      "loggggg\n"
     ]
    }
   ],
   "source": [
    "import xarray as xr\n",
    "\n",
    "from pathlib import Path\n",
    "\n",
    "import ewatercycle.forcing\n",
    "import ewatercycle.models\n",
    "import ewatercycle.parameter_sets\n",
    "\n",
    "import warnings\n",
    "\n",
    "warnings.filterwarnings(\"ignore\", category=UserWarning)"
   ]
  },
  {
   "cell_type": "code",
   "execution_count": 2,
   "id": "baa77ab8-09ea-4a4d-9202-83da2c3b2734",
   "metadata": {},
   "outputs": [],
   "source": [
    "available_cores = 30"
   ]
  },
  {
   "cell_type": "markdown",
   "id": "eda3b779-5402-4d08-8f9b-dedc5a682f92",
   "metadata": {},
   "source": [
    "# Paths\n"
   ]
  },
  {
   "cell_type": "code",
   "execution_count": 3,
   "id": "057842d5-2547-4089-8e17-544074217190",
   "metadata": {},
   "outputs": [],
   "source": [
    "# Set Paths\n",
    "ROOT = Path('/gpfs/work1/0/wtrcycle/users/jaerts/camels_uk/')\n",
    "MODELS = Path(f'{ROOT}/wflow/data/')"
   ]
  },
  {
   "cell_type": "markdown",
   "id": "ddbd9b47-5dc8-4e24-ab92-5c050b5efa5b",
   "metadata": {},
   "source": [
    "# Config"
   ]
  },
  {
   "cell_type": "code",
   "execution_count": 4,
   "id": "0fd1f5dd-b44c-41bd-bd4c-97c893da52c6",
   "metadata": {
    "tags": [
     "parameters"
    ]
   },
   "outputs": [],
   "source": [
    "# Set basin ID (tagged for papermill)\n",
    "basin_id = '1001'\n",
    "\n",
    "# Get basin directory\n",
    "BASINDIR = Path(f'{MODELS}/{basin_id}')\n",
    "\n",
    "# KsatHorFrac calibration parameter value\n",
    "ksathorfrac = '1'\n",
    "\n",
    "# Load eWaterCycle config\n",
    "ewatercycle.CFG.load_from_file(f'{ROOT}/camels-gb_pcr_globwb_wflow_sbm_comparison/ewatercycle.yaml')"
   ]
  },
  {
   "cell_type": "markdown",
   "id": "f5df707d-bc1f-47f9-ab7c-a4189b1bb444",
   "metadata": {},
   "source": [
    "# Set parameter set info\n",
    "\n",
    "\n"
   ]
  },
  {
   "cell_type": "code",
   "execution_count": 5,
   "id": "3b492659-f5cf-482e-9aed-140d3bfa7c45",
   "metadata": {},
   "outputs": [],
   "source": [
    "# Specify the parameter set of wflow_sbm based on the basin ID\n",
    "\n",
    "# Make sure dict is not empty\n",
    "if ewatercycle.CFG[\"parameter_sets\"] is None:\n",
    "    ewatercycle.CFG[\"parameter_sets\"] = {}\n",
    "\n",
    "# Specify directory, config file, target models\n",
    "ewatercycle.CFG[\"parameter_sets\"][f'{basin_id}'] = dict(\n",
    "    directory=f'{BASINDIR}',\n",
    "    config=f\"{BASINDIR}/wflow_sbm.toml\",\n",
    "    doi=\"N/A\",\n",
    "    target_model=\"wflow\",\n",
    "    supported_model_versions={\"2020.1.1\", \"2020.1.2\", \"2020.1.3\"},\n",
    ")"
   ]
  },
  {
   "cell_type": "code",
   "execution_count": 6,
   "id": "ffb6df7b-2370-4582-9846-9ce0160a2cf6",
   "metadata": {},
   "outputs": [
    {
     "name": "stdout",
     "output_type": "stream",
     "text": [
      "Parameter set\n",
      "-------------\n",
      "name=1001\n",
      "directory=/gpfs/work1/0/wtrcycle/users/jaerts/camels_uk/wflow/data/1001\n",
      "config=/gpfs/work1/0/wtrcycle/users/jaerts/camels_uk/wflow/data/1001/wflow_sbm.toml\n",
      "doi=N/A\n",
      "target_model=wflow\n",
      "supported_model_versions={'2020.1.3', '2020.1.1', '2020.1.2'}\n"
     ]
    }
   ],
   "source": [
    "# Load parameter set\n",
    "parameter_set = ewatercycle.parameter_sets.get_parameter_set(f'{basin_id}')\n",
    "print(parameter_set)"
   ]
  },
  {
   "cell_type": "markdown",
   "id": "d8eaab1e-e2a0-4a81-b29a-836803a866e9",
   "metadata": {},
   "source": [
    "# Set forcing info"
   ]
  },
  {
   "cell_type": "code",
   "execution_count": 7,
   "id": "cddaa5bf-b926-4fd7-9ea8-8d346b0af3de",
   "metadata": {},
   "outputs": [
    {
     "name": "stdout",
     "output_type": "stream",
     "text": [
      "Forcing data for Wflow\n",
      "----------------------\n",
      "Directory: /gpfs/work1/0/wtrcycle/users/jaerts/camels_uk/wflow/data/1001\n",
      "Start time: 2000-01-01T00:00:00Z\n",
      "End time: 2017-12-31T00:00:00Z\n",
      "Shapefile: None\n",
      "Additional information for model config:\n",
      "  - netcdfinput: ceh-gear_chess_camels-gb_1001_2000_2017.nc\n",
      "  - Precipitation: /pr\n",
      "  - Temperature: /tas\n",
      "  - EvapoTranspiration: /pet\n",
      "  - Inflow: None\n"
     ]
    }
   ],
   "source": [
    "forcing = ewatercycle.forcing.load_foreign(\n",
    "    target_model=\"wflow\",\n",
    "    start_time=\"2000-01-01T00:00:00Z\",\n",
    "    end_time=\"2017-12-31T00:00:00Z\",\n",
    "    directory=f'{BASINDIR}',\n",
    "    forcing_info={\n",
    "        'netcdfinput':f'ceh-gear_chess_camels-gb_{basin_id}_2000_2017.nc'\n",
    "    }\n",
    "    )\n",
    "\n",
    "print(forcing)"
   ]
  },
  {
   "cell_type": "markdown",
   "id": "c97c421d-490d-41aa-a6bc-0e214d182673",
   "metadata": {},
   "source": [
    "# Start "
   ]
  },
  {
   "cell_type": "code",
   "execution_count": 8,
   "id": "fb815417-b666-4666-9554-29619e25e0d2",
   "metadata": {},
   "outputs": [
    {
     "ename": "AttributeError",
     "evalue": "'TomlConfig' object has no attribute 'read'",
     "output_type": "error",
     "traceback": [
      "\u001b[0;31m---------------------------------------------------------------------------\u001b[0m",
      "\u001b[0;31mAttributeError\u001b[0m                            Traceback (most recent call last)",
      "Input \u001b[0;32mIn [8]\u001b[0m, in \u001b[0;36m<cell line: 1>\u001b[0;34m()\u001b[0m\n\u001b[0;32m----> 1\u001b[0m wflow_sbm \u001b[38;5;241m=\u001b[39m  \u001b[43mewatercycle\u001b[49m\u001b[38;5;241;43m.\u001b[39;49m\u001b[43mmodels\u001b[49m\u001b[38;5;241;43m.\u001b[39;49m\u001b[43mWflow\u001b[49m\u001b[43m(\u001b[49m\u001b[43mversion\u001b[49m\u001b[38;5;241;43m=\u001b[39;49m\u001b[38;5;124;43m\"\u001b[39;49m\u001b[38;5;124;43m2020.1.3\u001b[39;49m\u001b[38;5;124;43m\"\u001b[39;49m\u001b[43m,\u001b[49m\u001b[43m \u001b[49m\u001b[43mparameter_set\u001b[49m\u001b[38;5;241;43m=\u001b[39;49m\u001b[43mparameter_set\u001b[49m\u001b[43m,\u001b[49m\u001b[43m \u001b[49m\u001b[43mforcing\u001b[49m\u001b[38;5;241;43m=\u001b[39;49m\u001b[43mforcing\u001b[49m\u001b[43m)\u001b[49m\n",
      "File \u001b[0;32m/gpfs/home6/jaerts/mambaforge/envs/wflow_state_flux/lib/python3.10/site-packages/ewatercycle/models/wflow.py:50\u001b[0m, in \u001b[0;36mWflow.__init__\u001b[0;34m(self, version, parameter_set, forcing)\u001b[0m\n\u001b[1;32m     48\u001b[0m \u001b[38;5;28msuper\u001b[39m()\u001b[38;5;241m.\u001b[39m\u001b[38;5;21m__init__\u001b[39m(version, parameter_set, forcing)\n\u001b[1;32m     49\u001b[0m \u001b[38;5;28mself\u001b[39m\u001b[38;5;241m.\u001b[39m_set_docker_image()\n\u001b[0;32m---> 50\u001b[0m \u001b[38;5;28;43mself\u001b[39;49m\u001b[38;5;241;43m.\u001b[39;49m\u001b[43m_setup_default_config\u001b[49m\u001b[43m(\u001b[49m\u001b[43m)\u001b[49m\n",
      "File \u001b[0;32m/gpfs/home6/jaerts/mambaforge/envs/wflow_state_flux/lib/python3.10/site-packages/ewatercycle/models/wflow.py:76\u001b[0m, in \u001b[0;36mWflow._setup_default_config\u001b[0;34m(self)\u001b[0m\n\u001b[1;32m     74\u001b[0m \u001b[38;5;28;01mif\u001b[39;00m config_file\u001b[38;5;241m.\u001b[39mwith_suffix(\u001b[38;5;124m\"\u001b[39m\u001b[38;5;124m.toml\u001b[39m\u001b[38;5;124m\"\u001b[39m):\n\u001b[1;32m     75\u001b[0m     cfg \u001b[38;5;241m=\u001b[39m TomlConfig(config_file)\n\u001b[0;32m---> 76\u001b[0m     \u001b[43mcfg\u001b[49m\u001b[38;5;241;43m.\u001b[39;49m\u001b[43mread\u001b[49m(config_file)\n\u001b[1;32m     77\u001b[0m     \u001b[38;5;28mprint\u001b[39m(cfg)\n\u001b[1;32m     78\u001b[0m     \u001b[38;5;28;01mif\u001b[39;00m forcing:\n",
      "\u001b[0;31mAttributeError\u001b[0m: 'TomlConfig' object has no attribute 'read'"
     ]
    }
   ],
   "source": [
    "wflow_sbm =  ewatercycle.models.Wflow(version=\"2020.1.3\", parameter_set=parameter_set, forcing=forcing)"
   ]
  },
  {
   "cell_type": "code",
   "execution_count": null,
   "id": "16acd3bf-733e-41d6-a11d-7b63451de224",
   "metadata": {},
   "outputs": [],
   "source": [
    "from configparser import ConfigParser\n",
    "\n",
    "with open('/gpfs/work1/0/wtrcycle/users/jaerts/camels_uk/wflow/data/1001/wflow_sbm.toml', 'r') as f:\n",
    "    config_string = '[general]\\n' + f.read()\n",
    "    config = ConfigParser()\n",
    "    config.read_string(config_string)"
   ]
  },
  {
   "cell_type": "code",
   "execution_count": null,
   "id": "52a74897-9256-4c5f-92e7-8fedf29b5e24",
   "metadata": {},
   "outputs": [],
   "source": [
    "# Create Empty Dicts for Model Instances\n",
    "models = {}\n",
    "configuration_files = {}\n",
    "\n",
    "for value in calibration_interval:\n",
    "\n",
    "    # Specify model, model version, parameter set, forcing info\n",
    "    models[f\"KsatHorFrac_{value}\"] = ewatercycle.models.Wflow(\n",
    "        version=\"2020.1.2\", parameter_set=parameter_set, forcing=wflow_forcing\n",
    "    )\n",
    "    # Create Configuration Files\n",
    "    configuration_files[f\"KsatHorFrac_{value}\"] = models[f\"KsatHorFrac_{value}\"].setup()\n",
    "\n",
    "    # Set Calibration Parameter Values (KSatHorFrac)\n",
    "    set_calibration_parameter(\n",
    "        configuration_files[f\"KsatHorFrac_{value}\"][1], str(value)\n",
    "    )\n",
    "\n",
    "    # Initialize Model Instances\n",
    "    models[f\"KsatHorFrac_{value}\"].initialize(\n",
    "        configuration_files[f\"KsatHorFrac_{value}\"][0]\n",
    "    )\n",
    "\n"
   ]
  },
  {
   "cell_type": "code",
   "execution_count": 51,
   "id": "bcc9d6f3-1158-4374-9e78-b84bcee8086f",
   "metadata": {},
   "outputs": [
    {
     "ename": "NameError",
     "evalue": "name 'optionstr' is not defined",
     "output_type": "error",
     "traceback": [
      "\u001b[0;31m---------------------------------------------------------------------------\u001b[0m",
      "\u001b[0;31mNameError\u001b[0m                                 Traceback (most recent call last)",
      "Input \u001b[0;32mIn [51]\u001b[0m, in \u001b[0;36m<cell line: 10>\u001b[0;34m()\u001b[0m\n\u001b[1;32m      5\u001b[0m \u001b[38;5;28;01mfrom\u001b[39;00m \u001b[38;5;21;01murllib\u001b[39;00m\u001b[38;5;21;01m.\u001b[39;00m\u001b[38;5;21;01mrequest\u001b[39;00m \u001b[38;5;28;01mimport\u001b[39;00m urlopen\n\u001b[1;32m      7\u001b[0m \u001b[38;5;28;01mfrom\u001b[39;00m \u001b[38;5;21;01mruamel\u001b[39;00m\u001b[38;5;21;01m.\u001b[39;00m\u001b[38;5;21;01myaml\u001b[39;00m \u001b[38;5;28;01mimport\u001b[39;00m YAML\n\u001b[0;32m---> 10\u001b[0m \u001b[38;5;28;01mclass\u001b[39;00m \u001b[38;5;21;01mCaseConfigParser\u001b[39;00m(ConfigParser):\n\u001b[1;32m     11\u001b[0m     \u001b[38;5;124;03m\"\"\"Case sensitive config parser\u001b[39;00m\n\u001b[1;32m     12\u001b[0m \u001b[38;5;124;03m    See https://stackoverflow.com/questions/1611799/preserve-case-in-configparser\u001b[39;00m\n\u001b[1;32m     13\u001b[0m \u001b[38;5;124;03m    \"\"\"\u001b[39;00m\n\u001b[1;32m     14\u001b[0m     \u001b[38;5;28mprint\u001b[39m(optionstr)\n",
      "Input \u001b[0;32mIn [51]\u001b[0m, in \u001b[0;36mCaseConfigParser\u001b[0;34m()\u001b[0m\n\u001b[1;32m     10\u001b[0m \u001b[38;5;28;01mclass\u001b[39;00m \u001b[38;5;21;01mCaseConfigParser\u001b[39;00m(ConfigParser):\n\u001b[1;32m     11\u001b[0m     \u001b[38;5;124;03m\"\"\"Case sensitive config parser\u001b[39;00m\n\u001b[1;32m     12\u001b[0m \u001b[38;5;124;03m    See https://stackoverflow.com/questions/1611799/preserve-case-in-configparser\u001b[39;00m\n\u001b[1;32m     13\u001b[0m \u001b[38;5;124;03m    \"\"\"\u001b[39;00m\n\u001b[0;32m---> 14\u001b[0m     \u001b[38;5;28mprint\u001b[39m(\u001b[43moptionstr\u001b[49m)\n\u001b[1;32m     15\u001b[0m     \u001b[38;5;28;01mdef\u001b[39;00m \u001b[38;5;21moptionxform\u001b[39m(\u001b[38;5;28mself\u001b[39m, optionstr):\n\u001b[1;32m     16\u001b[0m         \u001b[38;5;28;01mreturn\u001b[39;00m optionstr\n",
      "\u001b[0;31mNameError\u001b[0m: name 'optionstr' is not defined"
     ]
    }
   ],
   "source": [
    "# -*- coding: utf-8 -*-\n",
    "from abc import ABC, abstractmethod\n",
    "from configparser import ConfigParser\n",
    "from typing import Any, Dict, Type\n",
    "from urllib.request import urlopen\n",
    "\n",
    "from ruamel.yaml import YAML\n",
    "\n",
    "\n",
    "    \n",
    "class CaseConfigParser(ConfigParser):\n",
    "    \"\"\"Case sensitive config parser\n",
    "    See https://stackoverflow.com/questions/1611799/preserve-case-in-configparser\n",
    "    \"\"\"\n",
    "\n",
    "    def optionxform(self, optionstr):\n",
    "        return optionstr\n",
    "    \n",
    "class CaseConfigParser2(ConfigParser):\n",
    "    \"\"\"Case sensitive config parser\n",
    "    See https://stackoverflow.com/questions/1611799/preserve-case-in-configparser\n",
    "    \"\"\"\n",
    "    \n",
    "    \n",
    "    \n",
    "    def optionxform(self, optionstr):\n",
    "        return optionstr\n",
    "\n",
    "def fetch(url):\n",
    "    \"\"\"Fetches text of url\"\"\"\n",
    "    with urlopen(url) as response:\n",
    "        return response.read().decode()\n",
    "\n",
    "\n",
    "class AbstractConfig(ABC):\n",
    "    @abstractmethod\n",
    "    def __init__(self, source: str):\n",
    "        \"\"\"Fetches and parses config file\n",
    "\n",
    "        Args:\n",
    "            source:  Source url of config file\n",
    "        \"\"\"\n",
    "        self.source = source\n",
    "        self.config: Any = None\n",
    "        \"\"\"Dict like content of config \"\"\"\n",
    "    \n",
    "     \n",
    "    @abstractmethod\n",
    "    def save(self, target: str):\n",
    "        \"\"\"\n",
    "\n",
    "        Args:\n",
    "            target: File path to save config to\n",
    "\n",
    "        Returns:\n",
    "\n",
    "        \"\"\"\n",
    "        pass\n",
    "\n",
    "\n",
    "class IniConfig(AbstractConfig):\n",
    "    \"\"\"Config container where config is read/saved in ini format.\"\"\"\n",
    "\n",
    "    def __init__(self, source):\n",
    "        super().__init__(source)\n",
    "        body = fetch(source)\n",
    "        self.config = CaseConfigParser(strict=False)\n",
    "        self.config.read_string(body)\n",
    "\n",
    "    def save(self, target):\n",
    "        with open(target, \"w\") as f:\n",
    "            self.config.write(f)\n",
    "\n",
    "\n",
    "class YamlConfig(AbstractConfig):\n",
    "    \"\"\"Config container where config is read/saved in yaml format\"\"\"\n",
    "\n",
    "    yaml = YAML()\n",
    "\n",
    "    def __init__(self, source):\n",
    "        super().__init__(source)\n",
    "        body = fetch(source)\n",
    "        self.config = self.yaml.load(body)\n",
    "\n",
    "        return self\n",
    "\n",
    "    def save(self, target):\n",
    "        with open(target, \"w\") as f:\n",
    "            self.yaml.dump(self.config, f)\n",
    "\n",
    "class TomlConfig(ConfigParser):\n",
    "    \"\"\"Config container where config is read/saved in toml format\"\"\"\n",
    "    print('loggggg')\n",
    "    def __init__(self, source):\n",
    "        super().__init__(source)\n",
    "        with open(source, 'r') as f:\n",
    "            config_string = '[general]\\n' + f.read()\n",
    "            self.config = CaseConfigParser(strict=False)\n",
    "            self.config.read_string(config_string)\n",
    "\n",
    "    def save(self, target):\n",
    "        with open(target, \"w\") as f:\n",
    "            self.config.write(f)\n",
    "\n",
    "CONFIG_FORMATS: Dict[str, Type[AbstractConfig]] = {\n",
    "    \"ini\": IniConfig,\n",
    "    \"yaml\": YamlConfig,\n",
    "    \"toml\": TomlConfig\n",
    "}\n"
   ]
  },
  {
   "cell_type": "code",
   "execution_count": 37,
   "id": "38428dd9-bb89-4307-bb38-a02a987a0f5d",
   "metadata": {},
   "outputs": [],
   "source": [
    "config_file = '/gpfs/work1/0/wtrcycle/users/jaerts/camels_uk/wflow/data/1001/wflow_sbm.toml'"
   ]
  },
  {
   "cell_type": "code",
   "execution_count": 38,
   "id": "0cca2322-5d6e-4a47-a617-967b901dc8c7",
   "metadata": {},
   "outputs": [
    {
     "ename": "AttributeError",
     "evalue": "'str' object has no attribute 'items'",
     "output_type": "error",
     "traceback": [
      "\u001b[0;31m---------------------------------------------------------------------------\u001b[0m",
      "\u001b[0;31mAttributeError\u001b[0m                            Traceback (most recent call last)",
      "Input \u001b[0;32mIn [38]\u001b[0m, in \u001b[0;36m<cell line: 1>\u001b[0;34m()\u001b[0m\n\u001b[0;32m----> 1\u001b[0m cfg \u001b[38;5;241m=\u001b[39m \u001b[43mTomlConfig\u001b[49m\u001b[43m(\u001b[49m\u001b[43mconfig_file\u001b[49m\u001b[43m)\u001b[49m\n",
      "Input \u001b[0;32mIn [36]\u001b[0m, in \u001b[0;36mTomlConfig.__init__\u001b[0;34m(self, source)\u001b[0m\n\u001b[1;32m     83\u001b[0m \u001b[38;5;28;01mdef\u001b[39;00m \u001b[38;5;21m__init__\u001b[39m(\u001b[38;5;28mself\u001b[39m, source):\n\u001b[0;32m---> 84\u001b[0m     \u001b[38;5;28;43msuper\u001b[39;49m\u001b[43m(\u001b[49m\u001b[43m)\u001b[49m\u001b[38;5;241;43m.\u001b[39;49m\u001b[38;5;21;43m__init__\u001b[39;49m\u001b[43m(\u001b[49m\u001b[43msource\u001b[49m\u001b[43m)\u001b[49m\n\u001b[1;32m     85\u001b[0m     \u001b[38;5;28mself\u001b[39m\u001b[38;5;241m.\u001b[39msource \u001b[38;5;241m=\u001b[39m source\n",
      "File \u001b[0;32m/gpfs/home6/jaerts/mambaforge/envs/wflow_state_flux/lib/python3.10/configparser.py:639\u001b[0m, in \u001b[0;36mRawConfigParser.__init__\u001b[0;34m(self, defaults, dict_type, allow_no_value, delimiters, comment_prefixes, inline_comment_prefixes, strict, empty_lines_in_values, default_section, interpolation, converters)\u001b[0m\n\u001b[1;32m    637\u001b[0m     \u001b[38;5;28mself\u001b[39m\u001b[38;5;241m.\u001b[39m_converters\u001b[38;5;241m.\u001b[39mupdate(converters)\n\u001b[1;32m    638\u001b[0m \u001b[38;5;28;01mif\u001b[39;00m defaults:\n\u001b[0;32m--> 639\u001b[0m     \u001b[38;5;28;43mself\u001b[39;49m\u001b[38;5;241;43m.\u001b[39;49m\u001b[43m_read_defaults\u001b[49m\u001b[43m(\u001b[49m\u001b[43mdefaults\u001b[49m\u001b[43m)\u001b[49m\n",
      "File \u001b[0;32m/gpfs/home6/jaerts/mambaforge/envs/wflow_state_flux/lib/python3.10/configparser.py:1223\u001b[0m, in \u001b[0;36mConfigParser._read_defaults\u001b[0;34m(self, defaults)\u001b[0m\n\u001b[1;32m   1221\u001b[0m     hold_interpolation \u001b[38;5;241m=\u001b[39m \u001b[38;5;28mself\u001b[39m\u001b[38;5;241m.\u001b[39m_interpolation\n\u001b[1;32m   1222\u001b[0m     \u001b[38;5;28mself\u001b[39m\u001b[38;5;241m.\u001b[39m_interpolation \u001b[38;5;241m=\u001b[39m Interpolation()\n\u001b[0;32m-> 1223\u001b[0m     \u001b[38;5;28;43mself\u001b[39;49m\u001b[38;5;241;43m.\u001b[39;49m\u001b[43mread_dict\u001b[49m\u001b[43m(\u001b[49m\u001b[43m{\u001b[49m\u001b[38;5;28;43mself\u001b[39;49m\u001b[38;5;241;43m.\u001b[39;49m\u001b[43mdefault_section\u001b[49m\u001b[43m:\u001b[49m\u001b[43m \u001b[49m\u001b[43mdefaults\u001b[49m\u001b[43m}\u001b[49m\u001b[43m)\u001b[49m\n\u001b[1;32m   1224\u001b[0m \u001b[38;5;28;01mfinally\u001b[39;00m:\n\u001b[1;32m   1225\u001b[0m     \u001b[38;5;28mself\u001b[39m\u001b[38;5;241m.\u001b[39m_interpolation \u001b[38;5;241m=\u001b[39m hold_interpolation\n",
      "File \u001b[0;32m/gpfs/home6/jaerts/mambaforge/envs/wflow_state_flux/lib/python3.10/configparser.py:748\u001b[0m, in \u001b[0;36mRawConfigParser.read_dict\u001b[0;34m(self, dictionary, source)\u001b[0m\n\u001b[1;32m    746\u001b[0m         \u001b[38;5;28;01mraise\u001b[39;00m\n\u001b[1;32m    747\u001b[0m elements_added\u001b[38;5;241m.\u001b[39madd(section)\n\u001b[0;32m--> 748\u001b[0m \u001b[38;5;28;01mfor\u001b[39;00m key, value \u001b[38;5;129;01min\u001b[39;00m \u001b[43mkeys\u001b[49m\u001b[38;5;241;43m.\u001b[39;49m\u001b[43mitems\u001b[49m():\n\u001b[1;32m    749\u001b[0m     key \u001b[38;5;241m=\u001b[39m \u001b[38;5;28mself\u001b[39m\u001b[38;5;241m.\u001b[39moptionxform(\u001b[38;5;28mstr\u001b[39m(key))\n\u001b[1;32m    750\u001b[0m     \u001b[38;5;28;01mif\u001b[39;00m value \u001b[38;5;129;01mis\u001b[39;00m \u001b[38;5;129;01mnot\u001b[39;00m \u001b[38;5;28;01mNone\u001b[39;00m:\n",
      "\u001b[0;31mAttributeError\u001b[0m: 'str' object has no attribute 'items'"
     ]
    }
   ],
   "source": [
    "cfg = TomlConfig(config_file)"
   ]
  },
  {
   "cell_type": "code",
   "execution_count": 34,
   "id": "49a32369-ded3-4d83-bfb7-92e6968102d6",
   "metadata": {},
   "outputs": [],
   "source": [
    "cfg.read(config_file)"
   ]
  },
  {
   "cell_type": "code",
   "execution_count": 39,
   "id": "13414d07-8375-4c27-8b4c-774b16cfe03a",
   "metadata": {},
   "outputs": [
    {
     "data": {
      "text/plain": [
       "__main__.YamlConfig"
      ]
     },
     "execution_count": 39,
     "metadata": {},
     "output_type": "execute_result"
    }
   ],
   "source": [
    "YamlConfig."
   ]
  },
  {
   "cell_type": "code",
   "execution_count": 44,
   "id": "e2a51d65-3bec-4423-b5de-acfbc5767ed9",
   "metadata": {},
   "outputs": [
    {
     "ename": "AttributeError",
     "evalue": "'str' object has no attribute 'items'",
     "output_type": "error",
     "traceback": [
      "\u001b[0;31m---------------------------------------------------------------------------\u001b[0m",
      "\u001b[0;31mAttributeError\u001b[0m                            Traceback (most recent call last)",
      "Input \u001b[0;32mIn [44]\u001b[0m, in \u001b[0;36m<cell line: 1>\u001b[0;34m()\u001b[0m\n\u001b[0;32m----> 1\u001b[0m \u001b[43mConfigParser\u001b[49m\u001b[43m(\u001b[49m\u001b[38;5;124;43m\"\u001b[39;49m\u001b[38;5;124;43m/gpfs/work1/0/wtrcycle/users/jaerts/wflow_state_flux/catchments/200m/179_camels_02430615_200m/wflow_ERA5_02430615_200m_2014_2019.ini\u001b[39;49m\u001b[38;5;124;43m\"\u001b[39;49m\u001b[43m)\u001b[49m\n",
      "File \u001b[0;32m/gpfs/home6/jaerts/mambaforge/envs/wflow_state_flux/lib/python3.10/configparser.py:639\u001b[0m, in \u001b[0;36mRawConfigParser.__init__\u001b[0;34m(self, defaults, dict_type, allow_no_value, delimiters, comment_prefixes, inline_comment_prefixes, strict, empty_lines_in_values, default_section, interpolation, converters)\u001b[0m\n\u001b[1;32m    637\u001b[0m     \u001b[38;5;28mself\u001b[39m\u001b[38;5;241m.\u001b[39m_converters\u001b[38;5;241m.\u001b[39mupdate(converters)\n\u001b[1;32m    638\u001b[0m \u001b[38;5;28;01mif\u001b[39;00m defaults:\n\u001b[0;32m--> 639\u001b[0m     \u001b[38;5;28;43mself\u001b[39;49m\u001b[38;5;241;43m.\u001b[39;49m\u001b[43m_read_defaults\u001b[49m\u001b[43m(\u001b[49m\u001b[43mdefaults\u001b[49m\u001b[43m)\u001b[49m\n",
      "File \u001b[0;32m/gpfs/home6/jaerts/mambaforge/envs/wflow_state_flux/lib/python3.10/configparser.py:1223\u001b[0m, in \u001b[0;36mConfigParser._read_defaults\u001b[0;34m(self, defaults)\u001b[0m\n\u001b[1;32m   1221\u001b[0m     hold_interpolation \u001b[38;5;241m=\u001b[39m \u001b[38;5;28mself\u001b[39m\u001b[38;5;241m.\u001b[39m_interpolation\n\u001b[1;32m   1222\u001b[0m     \u001b[38;5;28mself\u001b[39m\u001b[38;5;241m.\u001b[39m_interpolation \u001b[38;5;241m=\u001b[39m Interpolation()\n\u001b[0;32m-> 1223\u001b[0m     \u001b[38;5;28;43mself\u001b[39;49m\u001b[38;5;241;43m.\u001b[39;49m\u001b[43mread_dict\u001b[49m\u001b[43m(\u001b[49m\u001b[43m{\u001b[49m\u001b[38;5;28;43mself\u001b[39;49m\u001b[38;5;241;43m.\u001b[39;49m\u001b[43mdefault_section\u001b[49m\u001b[43m:\u001b[49m\u001b[43m \u001b[49m\u001b[43mdefaults\u001b[49m\u001b[43m}\u001b[49m\u001b[43m)\u001b[49m\n\u001b[1;32m   1224\u001b[0m \u001b[38;5;28;01mfinally\u001b[39;00m:\n\u001b[1;32m   1225\u001b[0m     \u001b[38;5;28mself\u001b[39m\u001b[38;5;241m.\u001b[39m_interpolation \u001b[38;5;241m=\u001b[39m hold_interpolation\n",
      "File \u001b[0;32m/gpfs/home6/jaerts/mambaforge/envs/wflow_state_flux/lib/python3.10/configparser.py:748\u001b[0m, in \u001b[0;36mRawConfigParser.read_dict\u001b[0;34m(self, dictionary, source)\u001b[0m\n\u001b[1;32m    746\u001b[0m         \u001b[38;5;28;01mraise\u001b[39;00m\n\u001b[1;32m    747\u001b[0m elements_added\u001b[38;5;241m.\u001b[39madd(section)\n\u001b[0;32m--> 748\u001b[0m \u001b[38;5;28;01mfor\u001b[39;00m key, value \u001b[38;5;129;01min\u001b[39;00m \u001b[43mkeys\u001b[49m\u001b[38;5;241;43m.\u001b[39;49m\u001b[43mitems\u001b[49m():\n\u001b[1;32m    749\u001b[0m     key \u001b[38;5;241m=\u001b[39m \u001b[38;5;28mself\u001b[39m\u001b[38;5;241m.\u001b[39moptionxform(\u001b[38;5;28mstr\u001b[39m(key))\n\u001b[1;32m    750\u001b[0m     \u001b[38;5;28;01mif\u001b[39;00m value \u001b[38;5;129;01mis\u001b[39;00m \u001b[38;5;129;01mnot\u001b[39;00m \u001b[38;5;28;01mNone\u001b[39;00m:\n",
      "\u001b[0;31mAttributeError\u001b[0m: 'str' object has no attribute 'items'"
     ]
    }
   ],
   "source": [
    "ConfigParser()"
   ]
  },
  {
   "cell_type": "code",
   "execution_count": 50,
   "id": "eca49877-f1e8-43fa-80c7-f1b01f70c404",
   "metadata": {},
   "outputs": [
    {
     "data": {
      "text/plain": [
       "['/gpfs/work1/0/wtrcycle/users/jaerts/wflow_state_flux/catchments/200m/179_camels_02430615_200m/wflow_ERA5_02430615_200m_2014_2019.ini']"
      ]
     },
     "execution_count": 50,
     "metadata": {},
     "output_type": "execute_result"
    }
   ],
   "source": [
    "cfg = CaseConfigParser()\n",
    "cfg.read(\"/gpfs/work1/0/wtrcycle/users/jaerts/wflow_state_flux/catchments/200m/179_camels_02430615_200m/wflow_ERA5_02430615_200m_2014_2019.ini\")"
   ]
  },
  {
   "cell_type": "code",
   "execution_count": 47,
   "id": "f86b8e0f-ed1d-4921-bf54-630515adf5f1",
   "metadata": {},
   "outputs": [
    {
     "data": {
      "text/plain": [
       "['inputmapstacks',\n",
       " 'modelparameters',\n",
       " 'run',\n",
       " 'model',\n",
       " 'framework',\n",
       " 'layout',\n",
       " 'outputmaps',\n",
       " 'summary_sum',\n",
       " 'summary_max',\n",
       " 'summary_min',\n",
       " 'summary_avg',\n",
       " 'outputcsv_0',\n",
       " 'outputcsv_1',\n",
       " 'outputcsv_2',\n",
       " 'outputtss_0']"
      ]
     },
     "execution_count": 47,
     "metadata": {},
     "output_type": "execute_result"
    }
   ],
   "source": [
    "cfg.sections()"
   ]
  },
  {
   "cell_type": "code",
   "execution_count": null,
   "id": "6f116dbb-1e34-4dbb-b158-c96682d65fc5",
   "metadata": {},
   "outputs": [],
   "source": []
  }
 ],
 "metadata": {
  "kernelspec": {
   "display_name": "Python 3 (ipykernel)",
   "language": "python",
   "name": "python3"
  },
  "language_info": {
   "codemirror_mode": {
    "name": "ipython",
    "version": 3
   },
   "file_extension": ".py",
   "mimetype": "text/x-python",
   "name": "python",
   "nbconvert_exporter": "python",
   "pygments_lexer": "ipython3",
   "version": "3.10.2"
  }
 },
 "nbformat": 4,
 "nbformat_minor": 5
}
