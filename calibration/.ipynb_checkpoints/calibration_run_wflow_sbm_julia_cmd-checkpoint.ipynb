{
 "cells": [
  {
   "cell_type": "markdown",
   "id": "9a1f4552-9d10-4513-b602-a28170a2ee7d",
   "metadata": {},
   "source": [
    "# Calibrate Wflow_SBM julia using cmd"
   ]
  },
  {
   "cell_type": "code",
   "execution_count": 1,
   "id": "f35b03e9-37ea-4dbf-bace-50fe265635b3",
   "metadata": {},
   "outputs": [],
   "source": [
    "from pathlib import Path"
   ]
  },
  {
   "cell_type": "markdown",
   "id": "8faef312-2c5a-4f88-934b-b5f574aa5fa9",
   "metadata": {},
   "source": [
    "# Set Paths"
   ]
  },
  {
   "cell_type": "code",
   "execution_count": 2,
   "id": "e97e2764-2854-4daf-859c-e83933a1c175",
   "metadata": {},
   "outputs": [],
   "source": [
    "# Set Paths\n",
    "ROOT = Path('/gpfs/work1/0/wtrcycle/users/jaerts/camels_uk/')\n",
    "MODELS = Path(f'{ROOT}/wflow/data/')"
   ]
  },
  {
   "cell_type": "code",
   "execution_count": null,
   "id": "7c28b9de-38f5-4265-831c-24129701d03e",
   "metadata": {},
   "outputs": [],
   "source": []
  },
  {
   "cell_type": "code",
   "execution_count": null,
   "id": "0e712276-45be-4e8a-8e76-bfccd4428731",
   "metadata": {},
   "outputs": [],
   "source": []
  }
 ],
 "metadata": {
  "kernelspec": {
   "display_name": "Python 3 (ipykernel)",
   "language": "python",
   "name": "python3"
  },
  "language_info": {
   "codemirror_mode": {
    "name": "ipython",
    "version": 3
   },
   "file_extension": ".py",
   "mimetype": "text/x-python",
   "name": "python",
   "nbconvert_exporter": "python",
   "pygments_lexer": "ipython3",
   "version": "3.10.2"
  }
 },
 "nbformat": 4,
 "nbformat_minor": 5
}
