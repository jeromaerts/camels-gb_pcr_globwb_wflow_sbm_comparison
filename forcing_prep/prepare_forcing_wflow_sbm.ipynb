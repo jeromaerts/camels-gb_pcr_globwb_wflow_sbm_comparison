{
 "cells": [
  {
   "cell_type": "markdown",
   "id": "e92a11f2-4647-47fa-9e72-f20c45b5c414",
   "metadata": {},
   "source": [
    "# Pre-process wflow_sbm forcing for CAMELS-GB\n",
    "## CEH-GEAR: pr, CHESS-PE: pet, CHESS-met: tas"
   ]
  },
  {
   "cell_type": "code",
   "execution_count": 1,
   "id": "122d4f65-1acb-4e25-ac59-e0fefa10d54a",
   "metadata": {},
   "outputs": [],
   "source": [
    "from glob import glob\n",
    "from pathlib import Path\n",
    "\n",
    "import iris\n",
    "import xarray as xr\n",
    "import pandas as pd\n",
    "from esmvalcore.preprocessor import regrid\n",
    "\n",
    "import warnings\n",
    "warnings.filterwarnings(\"ignore\", category=UserWarning)\n",
    "warnings.filterwarnings(\"ignore\", category=DeprecationWarning)"
   ]
  },
  {
   "cell_type": "markdown",
   "id": "531dd78f-0914-4266-b5c8-3876824d3a3d",
   "metadata": {},
   "source": [
    "# Set Paths"
   ]
  },
  {
   "cell_type": "code",
   "execution_count": 2,
   "id": "866d185e-acf6-4fd3-9597-1481380aabe6",
   "metadata": {},
   "outputs": [],
   "source": [
    "# Snellius paths\n",
    "ROOT = '/gpfs/work1/0/wtrcycle/users/jaerts/camels_uk/'\n",
    "AUXDATA = Path(f\"{ROOT}/aux_data\")\n",
    "FORCING = Path(f'{ROOT}/forcing/')\n",
    "MODELS = Path(f'{ROOT}/wflow/data/')\n",
    "NOTEBOOKS = Path(f'{ROOT}/notebooks')"
   ]
  },
  {
   "cell_type": "markdown",
   "id": "ff122560-5231-4b8d-9d28-bc89bcd6d9af",
   "metadata": {},
   "source": [
    "# Config"
   ]
  },
  {
   "cell_type": "code",
   "execution_count": 3,
   "id": "eb5139e8-4630-408d-9ac6-abbf66415e2c",
   "metadata": {
    "tags": [
     "parameters"
    ]
   },
   "outputs": [],
   "source": [
    "# Papermill Parameters\n",
    "basin_id = '24004'\n"
   ]
  },
  {
   "cell_type": "code",
   "execution_count": 4,
   "id": "4f00cc95-a2af-4349-805c-c0914035e065",
   "metadata": {},
   "outputs": [],
   "source": [
    "#Time Period\n",
    "start_year = \"2000\"\n",
    "end_year = \"2017\""
   ]
  },
  {
   "cell_type": "markdown",
   "id": "aed119d9-160d-49a6-aadd-56df740312f7",
   "metadata": {},
   "source": [
    "# Forcing pre-process function"
   ]
  },
  {
   "cell_type": "code",
   "execution_count": 5,
   "id": "6ed5e3d7-de6d-4cb5-8929-fa5393c97645",
   "metadata": {},
   "outputs": [],
   "source": [
    "# Prepare forcing function\n",
    "def prep_forcing(basin_id):\n",
    "    \n",
    "    # Create output list\n",
    "    output_cubes = []\n",
    "    \n",
    "    # Set basin directory\n",
    "    BASINDIR = f'{MODELS}/{basin_id}/'\n",
    "       \n",
    "    # Open netCDF file as an example grid from the model directory\n",
    "    cube_example = iris.load(f'{BASINDIR}/staticmaps.nc')[1]\n",
    "\n",
    "    # Rename Coords\n",
    "    cube_example.coord('x').rename('longitude')\n",
    "    cube_example.coord('y').rename('latitude')\n",
    "\n",
    "    # Guess bounds\n",
    "    cube_example.coord('latitude').guess_bounds()\n",
    "    cube_example.coord('longitude').guess_bounds()\n",
    "\n",
    "    # Loop forcing variables\n",
    "    for variable in ['pr','tas','pet']:\n",
    " \n",
    "        # Load forcing file\n",
    "        cube_forcing = iris.load(glob(f'{FORCING}/*{variable}*')[0])[0]\n",
    "\n",
    "        # Rename Coords\n",
    "        cube_forcing.coord('lon').rename('longitude')\n",
    "        cube_forcing.coord('lat').rename('latitude')\n",
    "\n",
    "        # Guess bounds\n",
    "        cube_forcing.coord('latitude').guess_bounds()\n",
    "        cube_forcing.coord('longitude').guess_bounds()\n",
    "\n",
    "        # Regrid forcing file to example grid using conservative method\n",
    "        cube_out = regrid(cube_forcing, cube_example, scheme='area_weighted')\n",
    "\n",
    "        # Append to cube list\n",
    "        output_cubes.append(cube_out)\n",
    "\n",
    "    # Combine output cubes\n",
    "    cubes = iris.cube.CubeList(output_cubes)\n",
    "    \n",
    "    # Output filename\n",
    "    output_fname = f'{BASINDIR}/ceh-gear_chess_camels-gb_{basin_id}_2000_2017.nc'\n",
    "    \n",
    "    # Remove existing file\n",
    "    if output_fname:\n",
    "        OUTPUT = Path(output_fname)\n",
    "        OUTPUT.unlink(output_fname)\n",
    "    \n",
    "    # Save output cubes\n",
    "    iris.save(cubes, output_fname)\n",
    "\n",
    "    return print(f'{basin_id} finished')"
   ]
  },
  {
   "cell_type": "markdown",
   "id": "615c9159-77c4-4a29-8ae2-cfbd02be7abf",
   "metadata": {},
   "source": [
    "# Run Function"
   ]
  },
  {
   "cell_type": "code",
   "execution_count": 6,
   "id": "94f2c092-3918-48ec-8701-0801b965698b",
   "metadata": {
    "tags": [
     "parameters"
    ]
   },
   "outputs": [
    {
     "name": "stdout",
     "output_type": "stream",
     "text": [
      "24004 finished\n"
     ]
    }
   ],
   "source": [
    "prep_forcing(basin_id)"
   ]
  },
  {
   "cell_type": "code",
   "execution_count": null,
   "id": "c6d904e9-8817-47e6-9cfb-51a253d2a66a",
   "metadata": {},
   "outputs": [],
   "source": []
  },
  {
   "cell_type": "code",
   "execution_count": null,
   "id": "2d06327f-5fd0-43c9-8b86-c0f07ea4c372",
   "metadata": {},
   "outputs": [],
   "source": []
  },
  {
   "cell_type": "code",
   "execution_count": null,
   "id": "4fc0e7d6-f0f6-4d6e-b738-c5211012c0cf",
   "metadata": {},
   "outputs": [],
   "source": []
  },
  {
   "cell_type": "code",
   "execution_count": null,
   "id": "747d13b3-9e72-4d6a-863d-49041c52cef3",
   "metadata": {},
   "outputs": [],
   "source": []
  },
  {
   "cell_type": "code",
   "execution_count": null,
   "id": "8ad0a235-6fb8-4a7e-a8c5-b63dd29d29ae",
   "metadata": {},
   "outputs": [],
   "source": []
  }
 ],
 "metadata": {
  "kernelspec": {
   "display_name": "Python 3 (ipykernel)",
   "language": "python",
   "name": "python3"
  },
  "language_info": {
   "codemirror_mode": {
    "name": "ipython",
    "version": 3
   },
   "file_extension": ".py",
   "mimetype": "text/x-python",
   "name": "python",
   "nbconvert_exporter": "python",
   "pygments_lexer": "ipython3",
   "version": "3.10.2"
  }
 },
 "nbformat": 4,
 "nbformat_minor": 5
}
