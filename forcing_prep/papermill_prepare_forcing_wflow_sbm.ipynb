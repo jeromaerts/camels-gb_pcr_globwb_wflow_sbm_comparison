{
 "cells": [
  {
   "cell_type": "markdown",
   "id": "4fef3da7-7e24-4741-8873-d11e40df7782",
   "metadata": {},
   "source": [
    "# Papermill prepare_forcing_wflow_sbm.ipynb"
   ]
  },
  {
   "cell_type": "code",
   "execution_count": 1,
   "id": "482b0840-4307-46de-b56c-e2f564ff7377",
   "metadata": {},
   "outputs": [],
   "source": [
    "from glob import glob\n",
    "from pathlib import Path\n",
    "\n",
    "import numpy as np\n",
    "import papermill\n",
    "from concurrent.futures import ThreadPoolExecutor"
   ]
  },
  {
   "cell_type": "markdown",
   "id": "9311a318-2394-4269-922f-50ac049b444f",
   "metadata": {},
   "source": [
    "# Set Paths"
   ]
  },
  {
   "cell_type": "code",
   "execution_count": 2,
   "id": "f1e7e7d5-b2b5-46d4-9c0a-2279849f339a",
   "metadata": {},
   "outputs": [],
   "source": [
    "# Snellius paths\n",
    "ROOT = '/gpfs/work1/0/wtrcycle/users/jaerts/camels_uk/'\n",
    "AUXDATA = Path(f\"{ROOT}/aux_data\")\n",
    "FORCING = Path(f'{ROOT}/forcing/')\n",
    "MODELS = Path(f'{ROOT}/wflow/data/')\n",
    "NOTEBOOKS = Path(f'{ROOT}/papermill_notebooks')"
   ]
  },
  {
   "cell_type": "markdown",
   "id": "9d9d5cc9-f5e4-4413-9e03-d7f96f0933dc",
   "metadata": {},
   "source": [
    "# Config"
   ]
  },
  {
   "cell_type": "code",
   "execution_count": 3,
   "id": "7c423ff2-e82a-48b2-b507-dff7352cda3f",
   "metadata": {},
   "outputs": [],
   "source": [
    "# Get available basin IDs wflow_sbm\n",
    "basin_dirs = glob(f'{MODELS}/*')\n",
    "basin_ids = [s.split('/')[-1] for s in basin_dirs]\n",
    "basin_ids.sort()\n",
    "\n",
    "# Amount of available cores\n",
    "cores_available = 10"
   ]
  },
  {
   "cell_type": "markdown",
   "id": "93148859-5d24-4f07-8c92-602c4afb3bb7",
   "metadata": {},
   "source": [
    "# Papermill"
   ]
  },
  {
   "cell_type": "code",
   "execution_count": 104,
   "id": "81cfcfb4-5f1a-40b9-a237-fb40fa8d84af",
   "metadata": {
    "tags": []
   },
   "outputs": [],
   "source": [
    "run_in_parallel=True\n",
    "tasklist = []\n",
    "\n",
    "for basin_id in basin_ids:\n",
    "\n",
    "    input_notebook = 'prepare_forcing_wflow_sbm.ipynb'\n",
    "    output_notebook = f'{NOTEBOOKS}/preprocess_wflow_{basin_id}.ipynb'\n",
    "\n",
    "    parameters = {'basin_id': basin_id}\n",
    "\n",
    "    if run_in_parallel:\n",
    "        tasklist.append([input_notebook, output_notebook, parameters])\n",
    "    else:\n",
    "        papermill.execute_notebook(input_notebook, output_notebook, parameters)\n",
    "\n"
   ]
  },
  {
   "cell_type": "code",
   "execution_count": 99,
   "id": "9504a9ec-edd1-4a94-9b93-a840a0e9d44c",
   "metadata": {
    "tags": []
   },
   "outputs": [],
   "source": [
    "if run_in_parallel:\n",
    "# Parallel execution works by mapping a function onto a list of arguments\n",
    "    def execute_task(args):\n",
    "        \"\"\"Run papermill with the given args\"\"\"\n",
    "        input_notebook, output_notebook, parameters = args\n",
    "        papermill.execute_notebook(input_notebook, output_notebook, parameters)\n",
    "\n",
    "        \n",
    "    # Create intervals based on available cores\n",
    "    task_interval = np.arange(0,len(tasklist)+cores_available, cores_available, dtype=int)\n",
    "    # Batch tasks based on available cores\n",
    "    for i, interval in enumerate(task_interval):\n",
    "        if (i + 1 < len(task_interval) and i - 1 >= 0):\n",
    "            tasks = tasklist[task_interval[i]:task_interval[i+1]]\n",
    "            \n",
    "            # Start tasks at once and wait for them to finish\n",
    "            with ThreadPoolExecutor() as executor:\n",
    "                executor.map(execute_task, tasks)       "
   ]
  }
 ],
 "metadata": {
  "kernelspec": {
   "display_name": "Python 3 (ipykernel)",
   "language": "python",
   "name": "python3"
  },
  "language_info": {
   "codemirror_mode": {
    "name": "ipython",
    "version": 3
   },
   "file_extension": ".py",
   "mimetype": "text/x-python",
   "name": "python",
   "nbconvert_exporter": "python",
   "pygments_lexer": "ipython3",
   "version": "3.10.2"
  }
 },
 "nbformat": 4,
 "nbformat_minor": 5
}
